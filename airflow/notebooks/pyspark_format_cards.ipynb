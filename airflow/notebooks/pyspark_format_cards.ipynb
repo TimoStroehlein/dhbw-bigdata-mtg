{
 "cells": [
  {
   "cell_type": "code",
   "execution_count": null,
   "id": "returning-auckland",
   "metadata": {},
   "outputs": [],
   "source": [
    "import findspark, os\n",
    "findspark.init('/home/hadoop/spark')\n",
    "\n",
    "# Enable horizontal scroll\n",
    "from IPython.core.display import HTML\n",
    "display(HTML(\"<style>pre { white-space: pre !important; }</style>\"))\n",
    "\n",
    "import pyspark\n",
    "from pyspark.sql import SparkSession\n",
    "from pyspark import SparkContext\n",
    "from pyspark.sql.functions import col, expr, explode, concat_ws\n",
    "\n",
    "# sc.stop()\n",
    "\n",
    "# Initialize Spark Context\n",
    "sc = pyspark.SparkContext()\n",
    "spark = SparkSession(sc)\n",
    "\n",
    "# Read raw cards from HDFS\n",
    "mtg_cards_df = spark.read.json(f'/user/hadoop/mtg/raw/2021/04/02')\n",
    "\n",
    "# Explode the array into single elements\n",
    "mtg_cards_exploded_df = mtg_cards_df\\\n",
    "    .select(explode('cards').alias('exploded'))\\\n",
    "    .select('exploded.*')\n",
    "\n",
    "# Replace all null values with empty strings\n",
    "mtg_cards_renamed_null_df = mtg_cards_exploded_df\\\n",
    "    .na.fill('')\n",
    "\n",
    "# Remove all unnecessary columns\n",
    "columns = ['name', 'subtypes', 'text', 'flavor', 'artist', 'multiverseid', 'imageUrl']\n",
    "reduced_cards_df = mtg_cards_renamed_null_df.select(*columns)\n",
    "\n",
    "# Flatten the subtypes from an array to a comma seperated string\n",
    "flattened_subtypes_df = reduced_cards_df\\\n",
    "    .withColumn('subtypes', concat_ws(', ', 'subtypes'))\n",
    "\n",
    "# Write data to HDFS\n",
    "flattened_subtypes_df.write.format('json')\\\n",
    "    .mode('overwrite')\\\n",
    "    .save(f'/user/hadoop/mtg/final/2021/04/02')"
   ]
  }
 ],
 "metadata": {
  "kernelspec": {
   "display_name": "Python 3",
   "language": "python",
   "name": "python3"
  },
  "language_info": {
   "codemirror_mode": {
    "name": "ipython",
    "version": 3
   },
   "file_extension": ".py",
   "mimetype": "text/x-python",
   "name": "python",
   "nbconvert_exporter": "python",
   "pygments_lexer": "ipython3",
   "version": "3.6.9"
  }
 },
 "nbformat": 4,
 "nbformat_minor": 5
}